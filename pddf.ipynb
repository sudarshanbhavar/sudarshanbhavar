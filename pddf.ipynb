{
  "cells": [
    {
      "cell_type": "markdown",
      "metadata": {
        "id": "view-in-github",
        "colab_type": "text"
      },
      "source": [
        "<a href=\"https://colab.research.google.com/github/ShivaShirsath/Plant-Disease-Diagnosis-Flask/blob/master/pddf.ipynb\" target=\"_parent\"><img src=\"https://colab.research.google.com/assets/colab-badge.svg\" alt=\"Open In Colab\"/></a>"
      ]
    },
    {
      "cell_type": "code",
      "source": [
        "! pip install flask-ngrok pyngrok gevent"
      ],
      "metadata": {
        "colab": {
          "base_uri": "https://localhost:8080/"
        },
        "id": "ZsOQ-OAp8jqA",
        "outputId": "f879c22f-65c4-4d7a-d77d-4867457a125e"
      },
      "execution_count": 13,
      "outputs": [
        {
          "output_type": "stream",
          "name": "stdout",
          "text": [
            "Looking in indexes: https://pypi.org/simple, https://us-python.pkg.dev/colab-wheels/public/simple/\n",
            "Requirement already satisfied: flask-ngrok in /usr/local/lib/python3.9/dist-packages (0.0.25)\n",
            "Requirement already satisfied: pyngrok in /usr/local/lib/python3.9/dist-packages (5.2.1)\n",
            "Requirement already satisfied: flask_cors in /usr/local/lib/python3.9/dist-packages (3.0.10)\n",
            "Collecting gevent\n",
            "  Downloading gevent-22.10.2-cp39-cp39-manylinux_2_17_x86_64.manylinux2014_x86_64.whl (6.4 MB)\n",
            "\u001b[2K     \u001b[90m━━━━━━━━━━━━━━━━━━━━━━━━━━━━━━━━━━━━━━━━\u001b[0m \u001b[32m6.4/6.4 MB\u001b[0m \u001b[31m45.0 MB/s\u001b[0m eta \u001b[36m0:00:00\u001b[0m\n",
            "\u001b[?25hRequirement already satisfied: Flask>=0.8 in /usr/local/lib/python3.9/dist-packages (from flask-ngrok) (2.2.3)\n",
            "Requirement already satisfied: requests in /usr/local/lib/python3.9/dist-packages (from flask-ngrok) (2.25.1)\n",
            "Requirement already satisfied: PyYAML in /usr/local/lib/python3.9/dist-packages (from pyngrok) (6.0)\n",
            "Requirement already satisfied: Six in /usr/local/lib/python3.9/dist-packages (from flask_cors) (1.15.0)\n",
            "Collecting zope.interface\n",
            "  Downloading zope.interface-6.0-cp39-cp39-manylinux_2_5_x86_64.manylinux1_x86_64.manylinux_2_17_x86_64.manylinux2014_x86_64.whl (246 kB)\n",
            "\u001b[2K     \u001b[90m━━━━━━━━━━━━━━━━━━━━━━━━━━━━━━━━━━━━━━\u001b[0m \u001b[32m246.1/246.1 KB\u001b[0m \u001b[31m22.6 MB/s\u001b[0m eta \u001b[36m0:00:00\u001b[0m\n",
            "\u001b[?25hCollecting zope.event\n",
            "  Downloading zope.event-4.6-py2.py3-none-any.whl (6.8 kB)\n",
            "Requirement already satisfied: greenlet>=2.0.0 in /usr/local/lib/python3.9/dist-packages (from gevent) (2.0.2)\n",
            "Requirement already satisfied: setuptools in /usr/local/lib/python3.9/dist-packages (from gevent) (63.4.3)\n",
            "Requirement already satisfied: itsdangerous>=2.0 in /usr/local/lib/python3.9/dist-packages (from Flask>=0.8->flask-ngrok) (2.1.2)\n",
            "Requirement already satisfied: Werkzeug>=2.2.2 in /usr/local/lib/python3.9/dist-packages (from Flask>=0.8->flask-ngrok) (2.2.3)\n",
            "Requirement already satisfied: click>=8.0 in /usr/local/lib/python3.9/dist-packages (from Flask>=0.8->flask-ngrok) (8.1.3)\n",
            "Requirement already satisfied: Jinja2>=3.0 in /usr/local/lib/python3.9/dist-packages (from Flask>=0.8->flask-ngrok) (3.1.2)\n",
            "Requirement already satisfied: importlib-metadata>=3.6.0 in /usr/local/lib/python3.9/dist-packages (from Flask>=0.8->flask-ngrok) (6.0.0)\n",
            "Requirement already satisfied: chardet<5,>=3.0.2 in /usr/local/lib/python3.9/dist-packages (from requests->flask-ngrok) (4.0.0)\n",
            "Requirement already satisfied: idna<3,>=2.5 in /usr/local/lib/python3.9/dist-packages (from requests->flask-ngrok) (2.10)\n",
            "Requirement already satisfied: certifi>=2017.4.17 in /usr/local/lib/python3.9/dist-packages (from requests->flask-ngrok) (2022.12.7)\n",
            "Requirement already satisfied: urllib3<1.27,>=1.21.1 in /usr/local/lib/python3.9/dist-packages (from requests->flask-ngrok) (1.26.15)\n",
            "Requirement already satisfied: zipp>=0.5 in /usr/local/lib/python3.9/dist-packages (from importlib-metadata>=3.6.0->Flask>=0.8->flask-ngrok) (3.15.0)\n",
            "Requirement already satisfied: MarkupSafe>=2.0 in /usr/local/lib/python3.9/dist-packages (from Jinja2>=3.0->Flask>=0.8->flask-ngrok) (2.1.2)\n",
            "Installing collected packages: zope.interface, zope.event, gevent\n",
            "Successfully installed gevent-22.10.2 zope.event-4.6 zope.interface-6.0\n"
          ]
        }
      ]
    },
    {
      "cell_type": "code",
      "source": [
        "! ngrok authtoken 2N6WNOvhe2XPK2SkHwaz7gwn0k0_21vYzWJsMBdgRaU7wYrkG"
      ],
      "metadata": {
        "id": "Chb_V3Nh8m4Z"
      },
      "execution_count": null,
      "outputs": []
    },
    {
      "cell_type": "code",
      "execution_count": 18,
      "metadata": {
        "colab": {
          "base_uri": "https://localhost:8080/"
        },
        "id": "5xnZjF8-k2Y9",
        "outputId": "4c555322-65f8-48c8-c20e-cf3763c8f9b7"
      },
      "outputs": [
        {
          "output_type": "stream",
          "name": "stdout",
          "text": [
            "/content\n",
            "Cloning into 'Crop-Disease-Detection'...\n",
            "remote: Enumerating objects: 308, done.\u001b[K\n",
            "remote: Counting objects: 100% (29/29), done.\u001b[K\n",
            "remote: Compressing objects: 100% (29/29), done.\u001b[K\n",
            "remote: Total 308 (delta 16), reused 0 (delta 0), pack-reused 279\u001b[K\n",
            "Receiving objects: 100% (308/308), 543.32 KiB | 5.38 MiB/s, done.\n",
            "Resolving deltas: 100% (152/152), done.\n",
            "Crop-Disease-Detection\t       Plant-Leaf-Disease-Detection\n",
            "Plant-Disease-Diagnosis-Flask  sample_data\n",
            "/content/Crop-Disease-Detection\n",
            "app.py\t\t\t       Model.hdf5  README.md\t     static\tuploads\n",
            "Crop-Diseases-Detection.ipynb  Procfile    requirements.txt  templates\n"
          ]
        }
      ],
      "source": [
        "%cd /content\n",
        "! git clone https://github.com/ShivaShirsath/Plant-Disease-Diagnosis-Flask.git\n",
        "%cd /content/Plant-Disease-Diagnosis-Flask"
      ]
    },
    {
      "cell_type": "code",
      "execution_count": 25,
      "metadata": {
        "colab": {
          "base_uri": "https://localhost:8080/"
        },
        "id": "pPq96plglBoh",
        "outputId": "81c73097-f0b5-4722-d21f-5f9809aee787"
      },
      "outputs": [
        {
          "output_type": "stream",
          "name": "stdout",
          "text": [
            "Model loaded. Check http://127.0.0.1:5000/\n",
            " * Serving Flask app '__main__'\n",
            " * Debug mode: off\n"
          ]
        },
        {
          "output_type": "stream",
          "name": "stderr",
          "text": [
            "INFO:werkzeug:\u001b[31m\u001b[1mWARNING: This is a development server. Do not use it in a production deployment. Use a production WSGI server instead.\u001b[0m\n",
            " * Running on http://127.0.0.1:5000\n",
            "INFO:werkzeug:\u001b[33mPress CTRL+C to quit\u001b[0m\n"
          ]
        },
        {
          "output_type": "stream",
          "name": "stdout",
          "text": [
            " * Running on http://371f-35-192-173-82.ngrok.io\n",
            " * Traffic stats available on http://127.0.0.1:4040\n"
          ]
        },
        {
          "output_type": "stream",
          "name": "stderr",
          "text": [
            "INFO:werkzeug:127.0.0.1 - - [17/Mar/2023 15:03:09] \"GET / HTTP/1.1\" 200 -\n",
            "INFO:werkzeug:127.0.0.1 - - [17/Mar/2023 15:03:10] \"GET /static/css/bootstrap.min.css HTTP/1.1\" 200 -\n",
            "INFO:werkzeug:127.0.0.1 - - [17/Mar/2023 15:03:10] \"GET /static/js/jquery.min.js HTTP/1.1\" 200 -\n",
            "INFO:werkzeug:127.0.0.1 - - [17/Mar/2023 15:03:10] \"GET /static/js/newjs.js HTTP/1.1\" 200 -\n",
            "INFO:werkzeug:127.0.0.1 - - [17/Mar/2023 15:03:10] \"GET /static/css/test.css HTTP/1.1\" 200 -\n",
            "INFO:werkzeug:127.0.0.1 - - [17/Mar/2023 15:03:10] \"GET /static/js/bootstrap.min.js HTTP/1.1\" 200 -\n",
            "INFO:werkzeug:127.0.0.1 - - [17/Mar/2023 15:03:14] \"GET / HTTP/1.1\" 200 -\n",
            "INFO:werkzeug:127.0.0.1 - - [17/Mar/2023 15:03:15] \"\u001b[33mGET /favicon.ico HTTP/1.1\u001b[0m\" 404 -\n"
          ]
        },
        {
          "output_type": "stream",
          "name": "stdout",
          "text": [
            "1/1 [==============================] - 4s 4s/step\n"
          ]
        },
        {
          "output_type": "stream",
          "name": "stderr",
          "text": [
            "INFO:werkzeug:127.0.0.1 - - [17/Mar/2023 15:03:25] \"POST /predict HTTP/1.1\" 200 -\n"
          ]
        },
        {
          "output_type": "stream",
          "name": "stdout",
          "text": [
            "[2.0975863e-04 1.2481653e-02 1.4662119e-02 3.9838973e-04 1.0517838e-01\n",
            " 1.3235993e-04 1.1581122e-03 3.5250565e-04 9.6161377e-05 4.2809699e-02\n",
            " 1.6410038e-04 5.7611746e-01 4.1674543e-06 1.3923354e-02 2.3231177e-01]\n",
            "Prediction: Tomato__Target_Spot\n"
          ]
        },
        {
          "output_type": "stream",
          "name": "stderr",
          "text": [
            "INFO:werkzeug:127.0.0.1 - - [17/Mar/2023 15:04:35] \"GET / HTTP/1.1\" 200 -\n"
          ]
        },
        {
          "output_type": "stream",
          "name": "stdout",
          "text": [
            "1/1 [==============================] - 0s 72ms/step\n"
          ]
        },
        {
          "output_type": "stream",
          "name": "stderr",
          "text": [
            "INFO:werkzeug:127.0.0.1 - - [17/Mar/2023 15:05:04] \"POST /predict HTTP/1.1\" 200 -\n"
          ]
        },
        {
          "output_type": "stream",
          "name": "stdout",
          "text": [
            "[3.26156104e-03 8.39496702e-02 3.63103151e-01 7.49359606e-04\n",
            " 4.72869486e-01 5.16402943e-05 6.18042483e-04 1.20733705e-04\n",
            " 3.67678695e-05 2.97283698e-02 4.19021817e-05 3.13076712e-02\n",
            " 1.28487691e-05 3.57992295e-03 1.05690127e-02]\n",
            "Prediction: Potato___healthy\n",
            "1/1 [==============================] - 0s 62ms/step\n"
          ]
        },
        {
          "output_type": "stream",
          "name": "stderr",
          "text": [
            "INFO:werkzeug:127.0.0.1 - - [17/Mar/2023 15:05:21] \"POST /predict HTTP/1.1\" 200 -\n"
          ]
        },
        {
          "output_type": "stream",
          "name": "stdout",
          "text": [
            "[8.9186251e-06 4.9327785e-04 2.9611762e-04 6.6981638e-06 4.1969199e-04\n",
            " 8.4187917e-08 2.1126493e-06 8.1736600e-04 5.6344114e-05 9.8674337e-04\n",
            " 2.4694603e-07 2.6567121e-05 3.3731251e-07 2.1006515e-04 9.9667537e-01]\n",
            "Prediction: Tomato_healthy\n"
          ]
        }
      ],
      "source": [
        "import os\n",
        "import tensorflow as tf\n",
        "import numpy as np\n",
        "from tensorflow import keras\n",
        "from skimage import io\n",
        "from tensorflow.keras.preprocessing import image\n",
        "\n",
        "# Flask utils\n",
        "from flask import Flask, redirect, url_for, request, render_template\n",
        "from werkzeug.utils import secure_filename\n",
        "from gevent.pywsgi import WSGIServer\n",
        "\n",
        "# Define a flask app\n",
        "app = Flask(__name__)\n",
        "\n",
        "from flask_ngrok import run_with_ngrok\n",
        "\n",
        "run_with_ngrok(app)\n",
        "\n",
        "model =tf.keras.models.load_model('PlantDNet.h5',compile=False)\n",
        "\n",
        "def model_predict(img_path, model):\n",
        "    img = image.load_img(img_path, grayscale=False, target_size=(64, 64))\n",
        "    show_img = image.load_img(img_path, grayscale=False, target_size=(64, 64))\n",
        "    x = image.img_to_array(img)\n",
        "    x = np.expand_dims(x, axis=0)\n",
        "    x = np.array(x, 'float32')\n",
        "    x /= 255\n",
        "    preds = model.predict(x)\n",
        "    return preds\n",
        "\n",
        "\n",
        "@app.route('/', methods=['GET'])\n",
        "def index():\n",
        "    # Main page\n",
        "    return render_template('index.html')\n",
        "\n",
        "\n",
        "@app.route('/predict', methods=['GET', 'POST'])\n",
        "def upload():\n",
        "    if request.method == 'POST':\n",
        "        # Get the file from post request\n",
        "        f = request.files['file']\n",
        "\n",
        "        # Save the file to ./uploads\n",
        "        basepath = os.getcwd()\n",
        "        file_path = os.path.join(\n",
        "            basepath, 'uploads', secure_filename(f.filename))\n",
        "        f.save(file_path)\n",
        "\n",
        "        # Make prediction\n",
        "        preds = model_predict(file_path, model)\n",
        "        print(preds[0])\n",
        "\n",
        "        # x = x.reshape([64, 64]);\n",
        "        disease_class = ['Pepper__bell___Bacterial_spot', 'Pepper__bell___healthy', 'Potato___Early_blight',\n",
        "                         'Potato___Late_blight', 'Potato___healthy', 'Tomato_Bacterial_spot', 'Tomato_Early_blight',\n",
        "                         'Tomato_Late_blight', 'Tomato_Leaf_Mold', 'Tomato_Septoria_leaf_spot',\n",
        "                         'Tomato_Spider_mites_Two_spotted_spider_mite', 'Tomato__Target_Spot',\n",
        "                         'Tomato__Tomato_YellowLeaf__Curl_Virus', 'Tomato__Tomato_mosaic_virus', 'Tomato_healthy']\n",
        "        a = preds[0]\n",
        "        ind=np.argmax(a)\n",
        "        print('Prediction:', disease_class[ind])\n",
        "        result=disease_class[ind]\n",
        "        return result\n",
        "    return None\n",
        "\n",
        "\n",
        "if __name__ == '__main__':\n",
        "    # app.run(port=5002, debug=True)\n",
        "\n",
        "    # Serve the app with gevent\n",
        "    #http_server = WSGIServer(('', 5000), app)\n",
        "    #http_server.serve_forever()\n",
        "    app.run()"
      ]
    }
  ],
  "metadata": {
    "colab": {
      "provenance": [],
      "authorship_tag": "ABX9TyM5jjzAuwkreZT7nl++g74U",
      "include_colab_link": true
    },
    "kernelspec": {
      "display_name": "Python 3",
      "name": "python3"
    },
    "language_info": {
      "name": "python"
    }
  },
  "nbformat": 4,
  "nbformat_minor": 0
}